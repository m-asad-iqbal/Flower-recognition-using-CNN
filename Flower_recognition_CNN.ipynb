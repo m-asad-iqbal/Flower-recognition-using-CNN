{
  "cells": [
    {
      "cell_type": "code",
      "execution_count": 2,
      "metadata": {
        "id": "uHRwrE7bTQkZ"
      },
      "outputs": [],
      "source": [
        "import os\n",
        "import cv2\n",
        "import numpy as np\n",
        "import matplotlib.pyplot as plt\n",
        "import tensorflow as tf\n",
        "from sklearn.model_selection import train_test_split\n",
        "from tensorflow.keras.models import Sequential\n",
        "from tensorflow.keras.layers import Dense\n",
        "import time\n",
        "import joblib\n",
        "from tensorflow.keras.models import Sequential\n",
        "from tensorflow.keras.layers import Conv2D, MaxPooling2D, Flatten, Dense, Dropout"
      ]
    },
    {
      "cell_type": "code",
      "source": [
        "from google.colab import drive\n",
        "drive.mount('/content/drive')"
      ],
      "metadata": {
        "colab": {
          "base_uri": "https://localhost:8080/"
        },
        "id": "hZpQaD_p_J38",
        "outputId": "eed83c6b-e29c-4294-cebb-8d623a8c86cb"
      },
      "execution_count": 1,
      "outputs": [
        {
          "output_type": "stream",
          "name": "stdout",
          "text": [
            "Mounted at /content/drive\n"
          ]
        }
      ]
    },
    {
      "cell_type": "code",
      "execution_count": 3,
      "metadata": {
        "id": "H_mjAcL-TRIi"
      },
      "outputs": [],
      "source": [
        "DATADIR = '/content/drive/MyDrive/flowers'\n",
        "IMG_SIZE = 180\n",
        "CATEGORIES = ['daisy', 'dandelion', 'rose', 'sunflower', 'tulip']"
      ]
    },
    {
      "cell_type": "code",
      "execution_count": 4,
      "metadata": {
        "id": "YmgHrbzLTSYZ"
      },
      "outputs": [],
      "source": [
        "from tqdm import tqdm\n",
        "data = []\n",
        "def create_data():\n",
        "  for category in CATEGORIES:\n",
        "    path = os.path.join(DATADIR, category)\n",
        "    class_num = CATEGORIES.index(category)\n",
        "    for img in tqdm(os.listdir(path)):\n",
        "      try:\n",
        "        img_array = cv2.imread(os.path.join(path, img))\n",
        "        new_array = cv2.resize(img_array, (IMG_SIZE, IMG_SIZE))\n",
        "        data.append([new_array,class_num])\n",
        "      except Exception as e:\n",
        "        print(\"Error\")\n"
      ]
    },
    {
      "cell_type": "code",
      "execution_count": 5,
      "metadata": {
        "colab": {
          "base_uri": "https://localhost:8080/"
        },
        "id": "AYxrQCIiU653",
        "outputId": "f90a60bc-60c8-4ee2-9a60-81a124ec6dbc"
      },
      "outputs": [
        {
          "output_type": "stream",
          "name": "stderr",
          "text": [
            "100%|██████████| 769/769 [00:14<00:00, 52.78it/s] \n",
            " 82%|████████▏ | 865/1055 [00:19<00:01, 158.38it/s]"
          ]
        },
        {
          "output_type": "stream",
          "name": "stdout",
          "text": [
            "Error\n"
          ]
        },
        {
          "output_type": "stream",
          "name": "stderr",
          "text": [
            " 91%|█████████▏| 963/1055 [00:19<00:00, 156.36it/s]"
          ]
        },
        {
          "output_type": "stream",
          "name": "stdout",
          "text": [
            "Error\n"
          ]
        },
        {
          "output_type": "stream",
          "name": "stderr",
          "text": [
            " 96%|█████████▋| 1018/1055 [00:19<00:00, 170.21it/s]"
          ]
        },
        {
          "output_type": "stream",
          "name": "stdout",
          "text": [
            "Error\n"
          ]
        },
        {
          "output_type": "stream",
          "name": "stderr",
          "text": [
            "100%|██████████| 1055/1055 [00:20<00:00, 52.29it/s] \n",
            "100%|██████████| 784/784 [00:16<00:00, 48.58it/s] \n",
            "100%|██████████| 734/734 [00:13<00:00, 52.45it/s] \n",
            "100%|██████████| 984/984 [00:20<00:00, 48.31it/s] "
          ]
        },
        {
          "output_type": "stream",
          "name": "stdout",
          "text": [
            "4323\n"
          ]
        },
        {
          "output_type": "stream",
          "name": "stderr",
          "text": [
            "\n"
          ]
        }
      ],
      "source": [
        "create_data()\n",
        "print(len(data))"
      ]
    },
    {
      "cell_type": "code",
      "execution_count": 6,
      "metadata": {
        "colab": {
          "base_uri": "https://localhost:8080/"
        },
        "id": "wmBaM2piVKM8",
        "outputId": "a3ead437-2ce6-4e31-f996-842a8389248b"
      },
      "outputs": [
        {
          "output_type": "stream",
          "name": "stderr",
          "text": [
            "100%|██████████| 4323/4323 [00:00<00:00, 1228204.04it/s]\n"
          ]
        }
      ],
      "source": [
        "X = []\n",
        "Y = []\n",
        "\n",
        "for features, labels in tqdm(data):\n",
        "  X.append(features)\n",
        "  Y.append(labels)"
      ]
    },
    {
      "cell_type": "code",
      "source": [
        "# num_classes = Y['labels'].nunique()\n",
        "# print(\"Total number of classes:\", num_classes)"
      ],
      "metadata": {
        "id": "hD5zTPXFwUDc"
      },
      "execution_count": 7,
      "outputs": []
    },
    {
      "cell_type": "code",
      "execution_count": 8,
      "metadata": {
        "colab": {
          "base_uri": "https://localhost:8080/"
        },
        "id": "LGCpkckuXjKl",
        "outputId": "851139bd-01a6-43e2-ddf8-03eeaf05e65c"
      },
      "outputs": [
        {
          "output_type": "execute_result",
          "data": {
            "text/plain": [
              "list"
            ]
          },
          "metadata": {},
          "execution_count": 8
        }
      ],
      "source": [
        "type(X)"
      ]
    },
    {
      "cell_type": "code",
      "execution_count": 9,
      "metadata": {
        "id": "gNSWLfcQawkz"
      },
      "outputs": [],
      "source": [
        "x = np.array(X)\n",
        "y = np.array(Y)"
      ]
    },
    {
      "cell_type": "code",
      "execution_count": 10,
      "metadata": {
        "colab": {
          "base_uri": "https://localhost:8080/"
        },
        "id": "no1SBISUa-OB",
        "outputId": "bd50240d-a21b-4955-dba2-e5b689dcd351"
      },
      "outputs": [
        {
          "output_type": "execute_result",
          "data": {
            "text/plain": [
              "(4323, 180, 180, 3)"
            ]
          },
          "metadata": {},
          "execution_count": 10
        }
      ],
      "source": [
        "np.shape(X)"
      ]
    },
    {
      "cell_type": "code",
      "execution_count": 11,
      "metadata": {
        "id": "iRX75cV5bSOH"
      },
      "outputs": [],
      "source": [
        "x_train, x_test, y_train, y_test=train_test_split(x, y, test_size=0.3, random_state=10)"
      ]
    },
    {
      "cell_type": "markdown",
      "source": [
        "**Applying CNN**"
      ],
      "metadata": {
        "id": "JZoeR6g1_fo4"
      }
    },
    {
      "cell_type": "code",
      "source": [
        "model = Sequential()\n",
        "model.add(Conv2D(filters=64, kernel_size = (5,5), padding = 'Same', activation='relu', input_shape=(IMG_SIZE, IMG_SIZE, 3)))\n",
        "model.add(MaxPooling2D(pool_size=(2,2), strides=(2,2)))\n",
        "\n",
        "model.add(Conv2D(filters=128, kernel_size = (3,3), padding = 'Same', activation='relu'))\n",
        "model.add(MaxPooling2D(pool_size=(2,2), strides=(2,2)))\n",
        "\n",
        "model.add(Conv2D(filters=196, kernel_size = (3,3), padding = 'Same', activation='relu'))\n",
        "model.add(MaxPooling2D(pool_size=(2,2), strides=(2,2)))\n",
        "\n",
        "model.add(Conv2D(filters=328, kernel_size = (3,3), padding = 'Same', activation='relu'))\n",
        "model.add(MaxPooling2D(pool_size=(2,2), strides=(2,2)))\n",
        "\n",
        "model.add(Conv2D(filters=512, kernel_size = (3,3), padding = 'Same', activation='relu'))\n",
        "model.add(MaxPooling2D(pool_size=(2,2), strides=(2,2)))\n",
        "\n",
        "model.add(Conv2D(filters=912, kernel_size = (3,3), padding = 'Same', activation='relu'))\n",
        "model.add(MaxPooling2D(pool_size=(2,2), strides=(2,2)))\n",
        "\n",
        "model.add(Flatten())\n",
        "model.add(Dense(228, activation='relu'))\n",
        "model.add(Dense(196, activation='relu'))\n",
        "model.add(Dense(5, activation='softmax'))\n",
        "\n"
      ],
      "metadata": {
        "id": "htvQxU-O_iel"
      },
      "execution_count": 19,
      "outputs": []
    },
    {
      "cell_type": "code",
      "source": [
        "model.compile(optimizer=tf.keras.optimizers.Adam(learning_rate=0.001), loss='sparse_categorical_crossentropy', metrics=['accuracy'])"
      ],
      "metadata": {
        "id": "WCWPOgddDZpI"
      },
      "execution_count": 20,
      "outputs": []
    },
    {
      "cell_type": "code",
      "execution_count": 18,
      "metadata": {
        "colab": {
          "base_uri": "https://localhost:8080/"
        },
        "id": "5IzfY0t6pL4F",
        "outputId": "977c9f6e-c28b-4d7d-fbc2-3cc5e4009163"
      },
      "outputs": [
        {
          "output_type": "stream",
          "name": "stdout",
          "text": [
            "Epoch 1/10\n",
            "95/95 [==============================] - 18s 141ms/step - loss: 7.0809 - accuracy: 0.2832 - val_loss: 1.6951 - val_accuracy: 0.2552\n",
            "Epoch 2/10\n",
            "95/95 [==============================] - 11s 115ms/step - loss: 1.2321 - accuracy: 0.4656 - val_loss: 1.3752 - val_accuracy: 0.4495\n",
            "Epoch 3/10\n",
            "95/95 [==============================] - 11s 115ms/step - loss: 1.0891 - accuracy: 0.5532 - val_loss: 0.9900 - val_accuracy: 0.6060\n",
            "Epoch 4/10\n",
            "95/95 [==============================] - 11s 116ms/step - loss: 0.9890 - accuracy: 0.6120 - val_loss: 1.0133 - val_accuracy: 0.6006\n",
            "Epoch 5/10\n",
            "95/95 [==============================] - 11s 114ms/step - loss: 0.8864 - accuracy: 0.6646 - val_loss: 0.9722 - val_accuracy: 0.6199\n",
            "Epoch 6/10\n",
            "95/95 [==============================] - 11s 116ms/step - loss: 0.8511 - accuracy: 0.6778 - val_loss: 0.8603 - val_accuracy: 0.6746\n",
            "Epoch 7/10\n",
            "95/95 [==============================] - 11s 114ms/step - loss: 0.7477 - accuracy: 0.7221 - val_loss: 1.0260 - val_accuracy: 0.6638\n",
            "Epoch 8/10\n",
            "95/95 [==============================] - 11s 114ms/step - loss: 0.6892 - accuracy: 0.7439 - val_loss: 1.0033 - val_accuracy: 0.6237\n",
            "Epoch 9/10\n",
            "95/95 [==============================] - 11s 115ms/step - loss: 0.5786 - accuracy: 0.7812 - val_loss: 0.8883 - val_accuracy: 0.6970\n",
            "Epoch 10/10\n",
            "95/95 [==============================] - 11s 114ms/step - loss: 0.4715 - accuracy: 0.8311 - val_loss: 0.9987 - val_accuracy: 0.6970\n"
          ]
        }
      ],
      "source": [
        "S=time.time()\n",
        "model.fit(x_train, y_train, epochs=10, batch_size=32, validation_data=(x_test, y_test))\n",
        "E=time.time()"
      ]
    },
    {
      "cell_type": "code",
      "execution_count": 15,
      "metadata": {
        "id": "r-ZVrD2IpN7u",
        "colab": {
          "base_uri": "https://localhost:8080/"
        },
        "outputId": "061c9e9c-c898-4dd1-aa6d-51f0e87e0f20"
      },
      "outputs": [
        {
          "output_type": "stream",
          "name": "stdout",
          "text": [
            "41/41 [==============================] - 1s 27ms/step - loss: 1.1205 - accuracy: 0.6746\n",
            "Test accuracy: 0.6746337413787842\n"
          ]
        }
      ],
      "source": [
        "test_loss, test_acc = model.evaluate(x_test, y_test)\n",
        "#joblib.dump(cnnmodel, 'cnn_model.joblib')\n",
        "print(f\"Test accuracy: {test_acc}\")"
      ]
    },
    {
      "cell_type": "code",
      "source": [],
      "metadata": {
        "id": "60XTV2btx4jA"
      },
      "execution_count": null,
      "outputs": []
    },
    {
      "cell_type": "markdown",
      "source": [
        "|       Models       | Train Acc | Test Acc |\n",
        "|:------------------:|:---------:|:--------:|\n",
        "|         ANN        |   43.23   |   30.45  |\n",
        "| ANN  (PCA(n=1000)) |   99.04   |   47.26  |\n",
        "|  ANN  (PCA(n=300)) |   86.32   |   41.25  |\n",
        "|         CNN        |   80.60   |   69.08  |"
      ],
      "metadata": {
        "id": "cIzZYeSOLeD6"
      }
    },
    {
      "cell_type": "code",
      "source": [],
      "metadata": {
        "id": "82Q6R1qjLehb"
      },
      "execution_count": null,
      "outputs": []
    }
  ],
  "metadata": {
    "colab": {
      "provenance": [],
      "gpuType": "T4"
    },
    "kernelspec": {
      "display_name": "Python 3",
      "name": "python3"
    },
    "language_info": {
      "name": "python"
    },
    "accelerator": "GPU"
  },
  "nbformat": 4,
  "nbformat_minor": 0
}